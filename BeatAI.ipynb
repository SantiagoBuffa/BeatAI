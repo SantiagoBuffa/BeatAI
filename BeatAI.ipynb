{
  "nbformat": 4,
  "nbformat_minor": 0,
  "metadata": {
    "colab": {
      "provenance": [],
      "authorship_tag": "ABX9TyPLYX/2lUJhM7Q/eikoK3iC",
      "include_colab_link": true
    },
    "kernelspec": {
      "name": "python3",
      "display_name": "Python 3"
    },
    "language_info": {
      "name": "python"
    }
  },
  "cells": [
    {
      "cell_type": "markdown",
      "metadata": {
        "id": "view-in-github",
        "colab_type": "text"
      },
      "source": [
        "<a href=\"https://colab.research.google.com/github/SantiagoBuffa/BeatAI/blob/main/BeatAI.ipynb\" target=\"_parent\"><img src=\"https://colab.research.google.com/assets/colab-badge.svg\" alt=\"Open In Colab\"/></a>"
      ]
    },
    {
      "cell_type": "code",
      "execution_count": 1,
      "metadata": {
        "id": "7rlGqPQkid--"
      },
      "outputs": [],
      "source": [
        "from google.colab import drive\n",
        "import os"
      ]
    },
    {
      "cell_type": "code",
      "source": [
        "#conectar con el drive del dataset\n",
        "drive.mount('/content/drive')\n",
        "dataset_path = '/content/drive/MyDrive/beatAI/ECG_DATA'\n",
        "\n",
        "if os.path.exists(dataset_path):\n",
        "    print(f\"✅ La carpeta existe: {dataset_path}\")\n",
        "else:\n",
        "    print(f\"❌ La carpeta no se encuentra. Revisá la ruta: {dataset_path}\")"
      ],
      "metadata": {
        "colab": {
          "base_uri": "https://localhost:8080/"
        },
        "id": "I_us1lKBXexa",
        "outputId": "4c1661c1-52d7-4401-f220-c92c407ddd6f"
      },
      "execution_count": 5,
      "outputs": [
        {
          "output_type": "stream",
          "name": "stdout",
          "text": [
            "Drive already mounted at /content/drive; to attempt to forcibly remount, call drive.mount(\"/content/drive\", force_remount=True).\n",
            "✅ La carpeta existe: /content/drive/MyDrive/beatAI/ECG_DATA\n"
          ]
        }
      ]
    }
  ]
}